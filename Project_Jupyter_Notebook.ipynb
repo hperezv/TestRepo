{
 "cells": [
  {
   "cell_type": "markdown",
   "metadata": {},
   "source": [
    "<div class=\"caja\" style =\"font-family: sans-serif;\n",
    "    font-size: 13px;\n",
    "    font-weight: 400;\n",
    "\t/*font-weight: bold;*/\n",
    "    color: #fff;\n",
    "    /*background: #889ccf;*/\n",
    "    margin: 0 0 25px;\n",
    "    overflow: hidden;\n",
    "    padding: 20px;\n",
    "    order: 10px solid #025280;\n",
    "    background: #0F80C1;\n",
    "    border-radius: 4px;\n",
    "    border-left: 3px solid #025280;\n",
    "    border-bottom: 2px solid #025280;\n",
    "    border-right: 1px solid #025280;\n",
    "    border-top: 0.5px solid #025280;\n",
    "    height: 35px;\n",
    "    padding: 10px;\">IBM |Tools for Data Science | Module 6  | Submit Your Work and Grade Your Peers |  by: Hector Pérez V.</div>"
   ]
  },
  {
   "cell_type": "markdown",
   "metadata": {},
   "source": [
    "Exercise 2 - Create a markdown cell with the title of the notebook. (1 pt)\n"
   ]
  },
  {
   "cell_type": "markdown",
   "metadata": {},
   "source": [
    "# Project your Jupyter Notebook"
   ]
  },
  {
   "cell_type": "markdown",
   "metadata": {},
   "source": [
    "\n",
    "Exercise 3 - Create a markdown cell for an introduction. (1 pt)"
   ]
  },
  {
   "cell_type": "markdown",
   "metadata": {},
   "source": [
    "This course introduced you to multiple data science tools, and in this final project, you will use Jupyter Notebook, one of the easiest tools to share publicly."
   ]
  },
  {
   "cell_type": "markdown",
   "metadata": {},
   "source": [
    "\n",
    "Exercise 4 - Create a markdown cell to list data science languages. (3 pts)\n"
   ]
  },
  {
   "cell_type": "markdown",
   "metadata": {},
   "source": [
    "### Core Languages\n",
    "- **Python** - Dominant language for ML/AI with libraries like Pandas, NumPy, and Scikit-learn\n",
    "- **R** - Specialized for statistical analysis and visualization\n",
    "- **SQL** - Essential for database querying and management\n",
    "\n",
    "### Additional Languages\n",
    "- **Julia** - High-performance language for technical computing\n",
    "- **Scala** - Used with Apache Spark for big data processing\n",
    "- **Java/Scala** - Enterprise-level applications\n",
    "- **MATLAB** - Popular in academic and engineering domains\n",
    "\n",
    "### Others\n",
    "- **Mojo** - New Python-compatible language for AI development\n",
    "- **Rust** - Gaining traction for performance-critical components"
   ]
  },
  {
   "cell_type": "markdown",
   "metadata": {},
   "source": [
    "\n",
    "Exercise 5 - Create a markdown cell to list data science libraries. (3 pts)\n"
   ]
  },
  {
   "cell_type": "markdown",
   "metadata": {},
   "source": [
    "### Machine Learning\n",
    "- **Scikit-learn** - Classical ML algorithms\n",
    "- **XGBoost/LightGBM** - Gradient boosting frameworks\n",
    "- **TensorFlow/PyTorch** - Deep learning frameworks\n",
    "\n",
    "### Data Visualization\n",
    "- **Matplotlib** - Foundational plotting library\n",
    "- **Seaborn** - Statistical visualizations\n",
    "- **Plotly** - Interactive visualizations\n",
    "\n",
    "### Big Data & Parallel Computing\n",
    "- **Dask** - Parallel computing\n",
    "- **PySpark** - Large-scale data processing\n",
    "- **Vaex** - Out-of-core DataFrames\n",
    "\n",
    "### Natural Language Processing\n",
    "- **NLTK** - Traditional NLP\n",
    "- **spaCy** - Industrial-strength NLP\n",
    "- **Hugging Face Transformers** - State-of-the-art NLP models\n",
    "\n",
    "### Specialized Tools\n",
    "- **Statsmodels** - Statistical modeling\n",
    "- **Prophet** - Time series forecasting\n",
    "- **OpenCV** - Computer vision"
   ]
  },
  {
   "cell_type": "markdown",
   "metadata": {},
   "source": [
    "\n",
    "Exercise 6 - Create a markdown cell with a table of Data Science tools. (3 pts)\n"
   ]
  },
  {
   "cell_type": "markdown",
   "metadata": {},
   "source": [
    "## Data Science Tools\n",
    "\n",
    "| Category         | Tool Name       | Description                                                                 | Primary Language |\n",
    "|------------------|-----------------|-----------------------------------------------------------------------------|------------------|\n",
    "| **IDE/Notebooks**| Jupyter         | Interactive computing environment                                           | Python           |\n",
    "|                  | RStudio         | IDE for R development                                                       | R                |\n",
    "|                  | VS Code         | Lightweight code editor with DS extensions                                  | Multi-language   |\n",
    "| **Version Control** | Git           | Source code management system                                               | -                |\n",
    "|                  | GitHub          | Cloud-based Git repository hosting                                         | -                |\n",
    "| **Data Processing** | Apache Spark  | Distributed data processing engine                                          | Scala/Python     |\n",
    "|                  | Dask            | Parallel computing for analytic workloads                                   | Python           |\n",
    "| **Deployment**   | Flask           | Lightweight web framework for model APIs                                    | Python           |\n",
    "|                  | Docker          | Containerization platform for reproducible environments                     | -                |\n",
    "| **Workflow**     | MLflow          | Platform for managing ML lifecycle                                         | Python           |\n",
    "|                  | Airflow         | Workflow automation and scheduling                                         | Python           |\n",
    "| **Visualization** | Tableau       | Business intelligence and data visualization                                | -                |\n",
    "|                  | Power BI        | Interactive data visualization suite                                        | -                |"
   ]
  },
  {
   "cell_type": "markdown",
   "metadata": {},
   "source": [
    "\n",
    "Exercise 7 - Create a markdown cell introducing arithmetic expression examples. (1 pt)\n"
   ]
  },
  {
   "cell_type": "markdown",
   "metadata": {},
   "source": [
    "## Arithmetic Expressions in Data Science\n",
    "\n",
    "Basic arithmetic operations form the foundation of numerical computing in data science. Here are common arithmetic expressions with examples:\n",
    "\n",
    "### Fundamental Operations\n",
    "| Operation      | Symbol | Example          | Result |\n",
    "|---------------|--------|------------------|--------|\n",
    "| Addition      | `+`    | `3 + 5`          | 8      |\n",
    "| Subtraction   | `-`    | `10 - 4`         | 6      |\n",
    "| Multiplication| `*`    | `7 * 3`          | 21     |\n",
    "| Division      | `/`    | `15 / 2`         | 7.5    |\n",
    "| Floor Division| `//`   | `15 // 2`        | 7      |\n",
    "| Modulus       | `%`    | `15 % 2`         | 1      |\n",
    "| Exponentiation| `**`   | `2 ** 3`         | 8      |\n"
   ]
  },
  {
   "cell_type": "markdown",
   "metadata": {},
   "source": [
    "Exercise 8 - Create a code cell to multiply and add numbers. (2 pts)\n"
   ]
  },
  {
   "cell_type": "code",
   "execution_count": 102,
   "metadata": {},
   "outputs": [],
   "source": [
    "def calculate_product():\n",
    "    try:\n",
    "        # Get user input\n",
    "        num1 = float(input(\"Enter first number: \"))\n",
    "        num2 = float(input(\"Enter second number: \"))\n",
    "        \n",
    "        # Calculations\n",
    "        product = num1 * num2\n",
    "        \n",
    "        # Display results\n",
    "        print(f\"\\nResults:\")\n",
    "        print(f\"{num1} * {num2} = {product}\")\n",
    "        \n",
    "    except ValueError:\n",
    "        print(\"Error: Please enter valid numbers!\")"
   ]
  },
  {
   "cell_type": "code",
   "execution_count": 103,
   "metadata": {},
   "outputs": [
    {
     "name": "stdout",
     "output_type": "stream",
     "text": [
      "\n",
      "Results:\n",
      "50.0 * 21.0 = 1050.0\n"
     ]
    }
   ],
   "source": [
    "calculate_product()"
   ]
  },
  {
   "cell_type": "markdown",
   "metadata": {},
   "source": [
    "\n",
    "Exercise 9 - Create a code cell to convert minutes to hours. (2 pts)\n"
   ]
  },
  {
   "cell_type": "code",
   "execution_count": 104,
   "metadata": {},
   "outputs": [],
   "source": [
    "def convert ():\n",
    "    try:\n",
    "        min=int(input(\"Enter time in minutes\"))\n",
    "        h=min//60\n",
    "        m=min%60\n",
    "        print(\"Hours=\",h)\n",
    "        print(\"Minutes=\",m)\n",
    "    except ValueError:\n",
    "        print(\"Error: Please enter valid minutes!\")"
   ]
  },
  {
   "cell_type": "code",
   "execution_count": null,
   "metadata": {},
   "outputs": [
    {
     "name": "stdout",
     "output_type": "stream",
     "text": [
      "Hours= 61\n",
      "Minutes= 10\n"
     ]
    }
   ],
   "source": [
    "convert()\n",
    "# 3670 = 61*60 +10 "
   ]
  },
  {
   "cell_type": "markdown",
   "metadata": {},
   "source": [
    "\n",
    "Exercise 10 -Insert a markdown cell to list Objectives. (3 pts)\n"
   ]
  },
  {
   "cell_type": "markdown",
   "metadata": {},
   "source": [
    "1. **Understand Basic Arithmetic Operations**  \n",
    "   - Implement addition, multiplication, and combined calculations  \n",
    "   - Explore operator precedence \n",
    "\n",
    "2. **Develop Interactive Code**  \n",
    "   - Create Python functions with user input  \n",
    "   - Implement error handling for robust execution  \n",
    "\n",
    "3. **Apply Mathematical Concepts**  \n",
    "   - Solve real-world problems\n",
    "   - Demonstrate vectorized operations with NumPy  "
   ]
  },
  {
   "cell_type": "markdown",
   "metadata": {},
   "source": [
    "\n",
    "Exercise 11 - Create a markdown cell to indicate the Author’s name. (2 pts)\n"
   ]
  },
  {
   "cell_type": "markdown",
   "metadata": {},
   "source": [
    "<div class=\"caja\" style =\"font-family: sans-serif;\n",
    "    font-size: 13px;\n",
    "    font-weight: 400;\n",
    "\t/*font-weight: bold;*/\n",
    "    color: #fff;\n",
    "    /*background: #889ccf;*/\n",
    "    margin: 0 0 25px;\n",
    "    overflow: hidden;\n",
    "    padding: 20px;\n",
    "    order: 10px solid #025280;\n",
    "    background: #0F80C1;\n",
    "    border-radius: 4px;\n",
    "    border-left: 3px solid #025280;\n",
    "    border-bottom: 2px solid #025280;\n",
    "    border-right: 1px solid #025280;\n",
    "    border-top: 0.5px solid #025280;\n",
    "    height: 35px;\n",
    "    padding: 10px;\">IBM |Tools for Data Science | Module 6  | Submit Your Work and Grade Your Peers |  by: Hector Pérez V.</div>"
   ]
  },
  {
   "cell_type": "markdown",
   "metadata": {},
   "source": [
    "\n",
    "Exercise 12 - Share your notebook through GitHub (3 pts)\n"
   ]
  },
  {
   "cell_type": "markdown",
   "metadata": {},
   "source": [
    "Exercise 13 - Take a screenshot of the first page of the notebook. (1 pt)"
   ]
  },
  {
   "cell_type": "markdown",
   "id": "b5f467ed-efe7-45ac-a08b-b2d48c26ba81",
   "metadata": {},
   "source": [
    "Copyright ©2024 IBM Corporation. All rights reserved.\n"
   ]
  }
 ],
 "metadata": {
  "kernelspec": {
   "display_name": "Python 3",
   "language": "python",
   "name": "python3"
  },
  "language_info": {
   "codemirror_mode": {
    "name": "ipython",
    "version": 3
   },
   "file_extension": ".py",
   "mimetype": "text/x-python",
   "name": "python",
   "nbconvert_exporter": "python",
   "pygments_lexer": "ipython3",
   "version": "3.12.5"
  },
  "prev_pub_hash": "9e1985db9844176462bd1d5863048c9f3d17404bbc6a648be9084b0c42b29347"
 },
 "nbformat": 4,
 "nbformat_minor": 4
}
